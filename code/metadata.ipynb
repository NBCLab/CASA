{
 "cells": [
  {
   "cell_type": "code",
   "execution_count": 1,
   "metadata": {},
   "outputs": [],
   "source": [
    "import json\n",
    "import os\n",
    "import os.path as op\n",
    "import pandas as pd"
   ]
  },
  {
   "cell_type": "code",
   "execution_count": 2,
   "metadata": {},
   "outputs": [],
   "source": [
    "proj_dir = '/home/data/nbc/Laird_CASA'\n",
    "\n",
    "data_dir = op.join(proj_dir, 'dset')"
   ]
  },
  {
   "cell_type": "code",
   "execution_count": 6,
   "metadata": {},
   "outputs": [
    {
     "name": "stdout",
     "output_type": "stream",
     "text": [
      "['sub-00011']\n"
     ]
    }
   ],
   "source": [
    "# Define the file path for participants.tsv\n",
    "ppts_df = pd.read_csv(op.join(data_dir, 'participants.tsv'), sep='\\t')\n",
    "\n",
    "# Create a list of subjects from the 'participant_id' column\n",
    "#subjects = ppts_df['participant_id'].to_numpy().tolist()\n",
    "\n",
    "# Filter for only subject 'sub-00011'\n",
    "subjects = ppts_df.loc[ppts_df['participant_id'] == 'sub-00011', 'participant_id'].to_list()\n",
    "\n",
    "# Print the list of subjects\n",
    "print(subjects)"
   ]
  },
  {
   "cell_type": "code",
   "execution_count": 7,
   "metadata": {},
   "outputs": [],
   "source": [
    "# Define the intended_for dictionary\n",
    "intended_for = {\n",
    "    \"run-01\": {\"task\": \"mpt\", \"run\": [\"01\", \"02\"]},\n",
    "    \"run-02\": {\"task\": \"mpt\", \"run\": [\"03\", \"04\"]},\n",
    "    \"run-03\": {\"task\": \"sorpf\", \"run\": [\"01\", \"02\"]},\n",
    "    \"run-04\": {\"task\": \"mist\", \"run\": [\"01\", \"02\"]},\n",
    "    \"run-05\": {\"task\": \"rest\", \"run\": [\"01\"]},\n",
    "    \"run-06\": {\"task\": \"rest\", \"run\": [\"02\"]},\n",
    "}\n",
    "\n",
    "def load_metadata(file_path):\n",
    "    \"\"\"Load JSON metadata from a file.\"\"\"\n",
    "    with open(file_path, \"r\") as f:\n",
    "        return json.load(f)\n",
    "\n",
    "def save_metadata(file_path, metadata):\n",
    "    \"\"\"Save the updated JSON metadata to a file with keys in alphabetical order.\"\"\"\n",
    "    with open(file_path, \"w\") as f:\n",
    "        json.dump(metadata, f, indent=4, sort_keys=True)\n",
    "\n",
    "def collect_func_file_paths(subject, data_dir, intended_for):\n",
    "    \"\"\"Collect file paths for the 'func' directory based on intended_for for a specific subject.\"\"\"\n",
    "    run_paths = {key: [] for key in intended_for.keys()}\n",
    "    subj_dir = op.join(data_dir, subject, 'ses-01', 'func')\n",
    "\n",
    "    if os.path.exists(subj_dir):\n",
    "        for run_key, run_info in intended_for.items():\n",
    "            task = run_info[\"task\"]\n",
    "            runs = run_info[\"run\"]\n",
    "\n",
    "            for filename in os.listdir(subj_dir):\n",
    "                for run in runs:\n",
    "                    if f\"task-{task}\" in filename and f\"run-{run}\" in filename and filename.endswith('.nii.gz'):\n",
    "                        relative_path = op.join('ses-01', 'func', filename)\n",
    "                        run_paths[run_key].append(relative_path)\n",
    "    \n",
    "    return run_paths\n",
    "\n",
    "def update_fmap_json_with_intended_for(subject, data_dir, run_paths):\n",
    "    \"\"\"Update the JSON metadata files in the 'fmap' directory with 'IntendedFor' for a specific subject.\"\"\"\n",
    "    fmap_dir = op.join(data_dir, subject, 'ses-01', 'fmap')\n",
    "\n",
    "    if os.path.exists(fmap_dir):\n",
    "        for filename in os.listdir(fmap_dir):\n",
    "            if filename.endswith('.json'):\n",
    "                run_number = filename.split('_run-')[-1].split('_')[0]\n",
    "                run_key = f\"run-{run_number}\"\n",
    "\n",
    "                if run_key in run_paths:\n",
    "                    json_path = op.join(fmap_dir, filename)\n",
    "                    metadata = load_metadata(json_path)\n",
    "\n",
    "                    if metadata is not None:\n",
    "                        metadata[\"IntendedFor\"] = run_paths[run_key]\n",
    "                        save_metadata(json_path, metadata)\n",
    "                        print(f\"Updated JSON for {subject} -> {json_path}\")"
   ]
  },
  {
   "cell_type": "code",
   "execution_count": 10,
   "metadata": {},
   "outputs": [
    {
     "name": "stdout",
     "output_type": "stream",
     "text": [
      "Updated JSON for sub-00011 -> /home/data/nbc/Laird_CASA/dset/sub-00011/ses-01/fmap/sub-00011_ses-01_acq-func_dir-AP_run-01_epi.json\n",
      "Updated JSON for sub-00011 -> /home/data/nbc/Laird_CASA/dset/sub-00011/ses-01/fmap/sub-00011_ses-01_acq-func_dir-PA_run-04_epi.json\n",
      "Updated JSON for sub-00011 -> /home/data/nbc/Laird_CASA/dset/sub-00011/ses-01/fmap/sub-00011_ses-01_acq-func_dir-PA_run-01_epi.json\n",
      "Updated JSON for sub-00011 -> /home/data/nbc/Laird_CASA/dset/sub-00011/ses-01/fmap/sub-00011_ses-01_acq-func_dir-AP_run-02_epi.json\n",
      "Updated JSON for sub-00011 -> /home/data/nbc/Laird_CASA/dset/sub-00011/ses-01/fmap/sub-00011_ses-01_acq-func_dir-AP_run-03_epi.json\n",
      "Updated JSON for sub-00011 -> /home/data/nbc/Laird_CASA/dset/sub-00011/ses-01/fmap/sub-00011_ses-01_acq-func_dir-AP_run-04_epi.json\n",
      "Updated JSON for sub-00011 -> /home/data/nbc/Laird_CASA/dset/sub-00011/ses-01/fmap/sub-00011_ses-01_acq-func_dir-PA_run-02_epi.json\n",
      "Updated JSON for sub-00011 -> /home/data/nbc/Laird_CASA/dset/sub-00011/ses-01/fmap/sub-00011_ses-01_acq-func_dir-PA_run-03_epi.json\n"
     ]
    }
   ],
   "source": [
    "# Iterate over each subject and process them individually\n",
    "for subject in subjects:\n",
    "    subject_run_paths = collect_func_file_paths(subject, data_dir, intended_for)\n",
    "    update_fmap_json_with_intended_for(subject, data_dir, subject_run_paths)"
   ]
  }
 ],
 "metadata": {
  "kernelspec": {
   "display_name": ".venv",
   "language": "python",
   "name": "python3"
  },
  "language_info": {
   "codemirror_mode": {
    "name": "ipython",
    "version": 3
   },
   "file_extension": ".py",
   "mimetype": "text/x-python",
   "name": "python",
   "nbconvert_exporter": "python",
   "pygments_lexer": "ipython3",
   "version": "3.9.7"
  }
 },
 "nbformat": 4,
 "nbformat_minor": 2
}
